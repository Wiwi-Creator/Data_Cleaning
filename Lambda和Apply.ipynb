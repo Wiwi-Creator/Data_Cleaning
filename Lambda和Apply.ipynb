{
 "cells": [
  {
   "cell_type": "markdown",
   "metadata": {},
   "source": [
    "# Lambda與Apply"
   ]
  },
  {
   "cell_type": "markdown",
   "metadata": {},
   "source": [
    "lambda:\n",
    "lambda函式也較匿名函式，允許我們做快速定義單行的函式。\n",
    "\n",
    "**** 註 **** \n",
    "lambda與def的區別:\n",
    "(1）def建立的方法是有名稱的，而lambda沒有。\n",
    "(2）lambda會return一個函式物件，而def則會把函式物件賦值給一個變數。\n",
    "(3）lambda只是一個表示式，而def則是一個語句。\n",
    "(4）lambda表示式” : “後面，只能有一個表示式，def則可以有多個。\n",
    "(5）lambda不能使用if,for,print等語句，def可以。\n",
    "(6）lambda一般用來做簡單的函式，而def可以定義複雜的函式。"
   ]
  },
  {
   "cell_type": "markdown",
   "metadata": {},
   "source": [
    "1.舉例做單引數 "
   ]
  },
  {
   "cell_type": "code",
   "execution_count": 1,
   "metadata": {},
   "outputs": [
    {
     "name": "stdout",
     "output_type": "stream",
     "text": [
      "27\n"
     ]
    }
   ],
   "source": [
    "a = lambda x : x ** 3 \n",
    "print(a(3))"
   ]
  },
  {
   "cell_type": "markdown",
   "metadata": {},
   "source": [
    "2.多重引數"
   ]
  },
  {
   "cell_type": "code",
   "execution_count": 2,
   "metadata": {},
   "outputs": [
    {
     "name": "stdout",
     "output_type": "stream",
     "text": [
      "7\n"
     ]
    }
   ],
   "source": [
    "a = lambda x , y , z:  (x + y) * 3 + z \n",
    "print(a(1,1,1))"
   ]
  },
  {
   "cell_type": "markdown",
   "metadata": {},
   "source": [
    "3.將list裡的每個元素做平方處理:"
   ]
  },
  {
   "cell_type": "code",
   "execution_count": 11,
   "metadata": {},
   "outputs": [
    {
     "name": "stdout",
     "output_type": "stream",
     "text": [
      "[2, 3, 4]\n"
     ]
    },
    {
     "data": {
      "text/plain": [
       "<map at 0x1d238799bb0>"
      ]
     },
     "execution_count": 11,
     "metadata": {},
     "output_type": "execute_result"
    }
   ],
   "source": [
    "# 一般寫法\n",
    "y = [1,2,3]\n",
    "k = []\n",
    "for each in y :\n",
    "    k.append(each+1)\n",
    "print(k)\n",
    "# lmbda 寫法\n",
    "f = lambda x : x + 1\n",
    "map(lambda x : x + 1 ,y)"
   ]
  },
  {
   "cell_type": "markdown",
   "metadata": {},
   "source": [
    "Apply :\n",
    "Python中格式為 : apply(function , *args , **kwargs)\n",
    "用途：當一個函式的引數存在於一個list或者一個dictionary中時，用來間接的呼叫這個函式，並將list或者dictionary中的引數按照順序傳遞給引數。\n",
    "\n",
    "**** 註 : args是一個包含按照函式所需引數傳遞的位置引數的一個元組，\n",
    "EX:\n",
    "A函式的函式位置為 A(a=1,b=2),那麼這個元組中就必須嚴格按照這個引數的位置順序進行傳遞(a=3,b=4)，而不能是(b=4,a=3)這樣的順序。\n",
    "**** 註: kwargs是一個包含關鍵字引數的字典，而其中args如果不傳遞，kwargs需要傳遞，則必須在args的位置留空。\n",
    "\n",
    "apply的return值就是函式func函式的return值。\n"
   ]
  },
  {
   "cell_type": "code",
   "execution_count": 38,
   "metadata": {},
   "outputs": [
    {
     "name": "stdout",
     "output_type": "stream",
     "text": [
      "              b         d         e\n",
      "wiwi   0.035036 -0.544817  1.428224\n",
      "josh  -0.029614 -1.181210 -0.097835\n",
      "terry -1.194219  0.872099 -1.112893\n",
      "ming   0.503717  0.500351  1.209191\n"
     ]
    }
   ],
   "source": [
    "import pandas as pd \n",
    "import numpy as np \n",
    "df = pd.DataFrame(np.random.randn(4,3),columns = list('bde'),index = ['wiwi','josh','terry','ming'])\n",
    "print(df)"
   ]
  },
  {
   "cell_type": "markdown",
   "metadata": {},
   "source": [
    "將函式應用到由各行各列形成的一維陣列。"
   ]
  },
  {
   "cell_type": "code",
   "execution_count": 41,
   "metadata": {},
   "outputs": [
    {
     "name": "stdout",
     "output_type": "stream",
     "text": [
      "              b         d         e\n",
      "wiwi   0.128640 -0.734875  0.394288\n",
      "josh   0.022905  0.364687  0.030482\n",
      "terry -0.854490  0.689259 -0.034254\n",
      "ming   1.002983  1.115799 -0.312367\n",
      "-----------分隔線-------------\n",
      "-----------分隔線-------------\n",
      "b    1.857473\n",
      "d    1.850674\n",
      "e    0.706655\n",
      "dtype: float64\n",
      "-----------分隔線-------------\n",
      "wiwi     1.129164\n",
      "josh     0.341782\n",
      "terry    1.543749\n",
      "ming     1.428166\n",
      "dtype: float64\n"
     ]
    }
   ],
   "source": [
    "import pandas as pd \n",
    "import numpy as np \n",
    "df = pd.DataFrame(np.random.randn(4,3),columns = list('bde'),index = ['wiwi','josh','terry','ming'])\n",
    "print(df)\n",
    "print(\"-----------分隔線-------------\")\n",
    "f = lambda x : x.max()-x.min()\n",
    "t1 = df.apply(f)\n",
    "print(\"-----------分隔線-------------\")\n",
    "print(t1)\n",
    "print(\"-----------分隔線-------------\")\n",
    "t2 = df.apply(f,axis = 1)\n",
    "print(t2)"
   ]
  },
  {
   "cell_type": "markdown",
   "metadata": {},
   "source": [
    "透過define函式(function)，傳遞給apply的函是可以由多值組成的Series。"
   ]
  },
  {
   "cell_type": "code",
   "execution_count": 44,
   "metadata": {},
   "outputs": [
    {
     "name": "stdout",
     "output_type": "stream",
     "text": [
      "              b         d         e\n",
      "wiwi   1.596980  0.037737  0.105264\n",
      "josh  -0.045156 -0.893985  0.370687\n",
      "terry -0.614093  0.520929  0.317819\n",
      "ming  -0.959533  0.196707  0.044691\n",
      "            b         d         e\n",
      "min -0.959533 -0.893985  0.044691\n",
      "max  1.596980  0.520929  0.370687\n"
     ]
    }
   ],
   "source": [
    "import pandas as pd \n",
    "import numpy as np \n",
    "df = pd.DataFrame(np.random.randn(4,3),columns = list('bde'),index = ['wiwi','josh','terry','ming'])\n",
    "print(df)\n",
    "def f(x) :\n",
    "    return pd.Series([x.min(),x.max()],index=['min','max'])\n",
    "t3 = df.apply(f)\n",
    "print(t3)"
   ]
  },
  {
   "cell_type": "code",
   "execution_count": 51,
   "metadata": {},
   "outputs": [
    {
     "name": "stdout",
     "output_type": "stream",
     "text": [
      "              b         d         e\n",
      "wiwi   1.602129  0.362310 -1.026942\n",
      "josh   0.408309 -0.457418  0.162613\n",
      "terry -1.148359 -0.719545 -0.203621\n",
      "ming  -1.332231 -0.765647 -0.148309\n",
      "-----------分隔線-------------\n",
      "           b      d      e\n",
      "wiwi    1.60   0.36  -1.03\n",
      "josh    0.41  -0.46   0.16\n",
      "terry  -1.15  -0.72  -0.20\n",
      "ming   -1.33  -0.77  -0.15\n",
      "-----------分隔線-------------\n",
      "wiwi     -1.03\n",
      "josh      0.16\n",
      "terry    -0.20\n",
      "ming     -0.15\n",
      "Name: e, dtype: object\n"
     ]
    }
   ],
   "source": [
    "import pandas as pd \n",
    "import numpy as np \n",
    "df = pd.DataFrame(np.random.randn(4,3),columns = list('bde'),index = ['wiwi','josh','terry','ming'])\n",
    "print(df)\n",
    "print(\"-----------分隔線-------------\")\n",
    "# 將DataFrame中的每個元素保留小數點後2位\n",
    "f = lambda x : '%.2f'%x\n",
    "t4 = df.applymap(f)\n",
    "print(t4)\n",
    "print(\"-----------分隔線-------------\")\n",
    "#注意，之所以這裡用map,是因為Series有一個元素級函式的map方法。而dataframe只有applymap\n",
    "t5 = df['e'].map(f)\n",
    "print(t5)"
   ]
  }
 ],
 "metadata": {
  "interpreter": {
   "hash": "23300995598eec4bcf6bd89cf02d1c3675e8b2616661418dbbf5580aa901878d"
  },
  "kernelspec": {
   "display_name": "Python 3.9.11 64-bit",
   "language": "python",
   "name": "python3"
  },
  "language_info": {
   "codemirror_mode": {
    "name": "ipython",
    "version": 3
   },
   "file_extension": ".py",
   "mimetype": "text/x-python",
   "name": "python",
   "nbconvert_exporter": "python",
   "pygments_lexer": "ipython3",
   "version": "3.9.11"
  },
  "orig_nbformat": 4
 },
 "nbformat": 4,
 "nbformat_minor": 2
}
