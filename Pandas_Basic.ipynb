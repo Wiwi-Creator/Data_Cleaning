{
 "cells": [
  {
   "cell_type": "markdown",
   "metadata": {},
   "source": [
    "前言介紹"
   ]
  },
  {
   "cell_type": "markdown",
   "metadata": {},
   "source": [
    "在Python套件生態中:Numpy,Pandas,Matplotlib,Scipy,scikit-learn是常用來做資料分析,機器學習,資料科學的套件!"
   ]
  },
  {
   "cell_type": "markdown",
   "metadata": {},
   "source": [
    "Pandas:是Python做資料處理及分析的套件。其主要結構為Series,DataFrame。\n",
    "\n",
    "*Series:為索引標籤及實際值的陣列組合。\n",
    "*DataFrame:類似於關聯資料庫(table)結構化資料的格式。\n",
    "\n",
    "開始安裝Pandas->和所有的Python套件安裝時一樣，需要在Terminal終端機安裝\n",
    "\n",
    "語法:\n",
    "pip install pandas\n",
    "jupyter語法:\n",
    "!pip install pandas"
   ]
  },
  {
   "cell_type": "markdown",
   "metadata": {},
   "source": [
    "建立Series物件"
   ]
  },
  {
   "cell_type": "markdown",
   "metadata": {},
   "source": [
    "透過list當作參數可以將list轉換成series物件。"
   ]
  },
  {
   "cell_type": "code",
   "execution_count": 1,
   "metadata": {},
   "outputs": [
    {
     "name": "stdout",
     "output_type": "stream",
     "text": [
      "0    1\n",
      "1    3\n",
      "2    5\n",
      "3    9\n",
      "dtype: int64\n"
     ]
    }
   ],
   "source": [
    "# 引入pandas套件可以使用別名\n",
    "import pandas as pd\n",
    "series_1 = pd.Series([1,3,5,9])\n",
    "print(series_1)"
   ]
  },
  {
   "cell_type": "markdown",
   "metadata": {},
   "source": [
    "建立Series索引值(預設皆為0,1,2,3，但可以透過index修改屬性)"
   ]
  },
  {
   "cell_type": "code",
   "execution_count": 4,
   "metadata": {},
   "outputs": [
    {
     "name": "stdout",
     "output_type": "stream",
     "text": [
      "Wiwi     60\n",
      "Josh     88\n",
      "Ming     90\n",
      "Terry    50\n",
      "dtype: int64\n"
     ]
    }
   ],
   "source": [
    "import pandas as pd\n",
    "grades  = pd.Series([60,88,90,50],index=['Wiwi','Josh','Ming','Terry'])\n",
    "print(grades)"
   ]
  },
  {
   "cell_type": "markdown",
   "metadata": {},
   "source": [
    "取得特定值(類似於條件)\n",
    "Case1:透過索引(index)"
   ]
  },
  {
   "cell_type": "code",
   "execution_count": 10,
   "metadata": {},
   "outputs": [
    {
     "name": "stdout",
     "output_type": "stream",
     "text": [
      "A  跳行\n",
      "\n",
      "1    22C\n",
      "2     33\n",
      "dtype: object\n"
     ]
    }
   ],
   "source": [
    "import pandas as pd\n",
    "Series_1 = pd.Series(['A','22C','33'])\n",
    "print(Series_1[0] +'  跳行' +'\\n')\n",
    "\n",
    "print(Series_1[1:3])"
   ]
  },
  {
   "cell_type": "markdown",
   "metadata": {},
   "source": [
    "Case2:透過自訂義取得值"
   ]
  },
  {
   "cell_type": "code",
   "execution_count": 16,
   "metadata": {},
   "outputs": [
    {
     "name": "stdout",
     "output_type": "stream",
     "text": [
      "60\n"
     ]
    }
   ],
   "source": [
    "import pandas as pd\n",
    "grades  = pd.Series([60,88,90,50],index=['Wiwi','Josh','Ming','Terry'])\n",
    "print(grades['Wiwi'])"
   ]
  },
  {
   "cell_type": "markdown",
   "metadata": {},
   "source": [
    "相關統計函數的運用:\n",
    "sum(),max(),prod(),mean(),median(),std(),nlargest(),nsmallest()"
   ]
  },
  {
   "cell_type": "code",
   "execution_count": 28,
   "metadata": {},
   "outputs": [
    {
     "name": "stdout",
     "output_type": "stream",
     "text": [
      "總和: 288\n",
      "最大值: 90\n",
      "算術平均數: 72.0\n",
      "標準差: 20.06655592438988\n",
      "最大的一個數: Ming    90\n",
      "dtype: int64\n",
      "最小的一個數: Terry    50\n",
      "dtype: int64\n",
      "乘法總和: 23760000\n"
     ]
    }
   ],
   "source": [
    "import pandas as pd\n",
    "grades  = pd.Series([60,88,90,50],index=['Wiwi','Josh','Ming','Terry'])\n",
    "print('總和:' , grades.sum())\n",
    "print('最大值:' , grades.max())\n",
    "print('算術平均數:' , grades.mean())\n",
    "print('標準差:' , grades.std())\n",
    "print('最大的一個數:' , grades.nlargest(1)) # 函數中填入幾個數字?\n",
    "print('最小的一個數:' , grades.nsmallest(1))\n",
    "print('乘法總和:' , grades.prod())"
   ]
  },
  {
   "cell_type": "markdown",
   "metadata": {},
   "source": [
    "字串操作相關函數\n",
    "lower(),upper(),len(),cat(),contains(),replace()"
   ]
  },
  {
   "cell_type": "code",
   "execution_count": 33,
   "metadata": {},
   "outputs": [
    {
     "name": "stdout",
     "output_type": "stream",
     "text": [
      "全部小寫: 0    wiwi\n",
      "1       郭\n",
      "2      陳宇\n",
      "dtype: object\n",
      "全部大寫: 0    WIWI\n",
      "1       郭\n",
      "2      陳宇\n",
      "dtype: object\n",
      "字串長度: 0    4\n",
      "1    1\n",
      "2    2\n",
      "dtype: int64\n",
      "合併字串並定義中間符號: wiwi-郭-陳宇\n",
      "判斷字串是否包含特定字: 0    False\n",
      "1    False\n",
      "2    False\n",
      "dtype: bool\n",
      "取代字串: 0    Jackson\n",
      "1          郭\n",
      "2         陳宇\n",
      "dtype: object\n"
     ]
    }
   ],
   "source": [
    "import pandas as pd\n",
    "ex_data = pd.Series(['wiwi','郭','陳宇'])\n",
    "print('全部小寫:',ex_data.str.lower())\n",
    "print('全部大寫:',ex_data.str.upper())\n",
    "print('字串長度:',ex_data.str.len())\n",
    "print('合併字串並定義中間符號:',ex_data.str.cat(sep ='-'))\n",
    "print('判斷字串是否包含特定字:',ex_data.str.contains(\"p\"))\n",
    "print('取代字串:',ex_data.str.replace('wiwi','Jackson'))"
   ]
  },
  {
   "cell_type": "markdown",
   "metadata": {},
   "source": [
    "建立DataFrame物件"
   ]
  },
  {
   "cell_type": "markdown",
   "metadata": {},
   "source": [
    "DataFrame:Pandas最重要的結構，幾乎皆此用此作為資料的分析及處理，其類似於關聯式資料庫中的table(由欄位column和索引index組成)"
   ]
  },
  {
   "cell_type": "code",
   "execution_count": 19,
   "metadata": {},
   "outputs": [
    {
     "name": "stdout",
     "output_type": "stream",
     "text": [
      "    name               email  gardes\n",
      "0   Wiwi  w22151500@kimo.com      80\n",
      "1   Josh       j22@yahoo.com      66\n",
      "2   Ming      Ming@gmail.com      90\n",
      "3  Terry      Terry@kimo.com      99\n",
      "---------------------------------我是分隔線-----------------------------------------\n",
      "         name               email  gardes\n",
      "one      Wiwi  w22151500@kimo.com      80\n",
      "second   Josh       j22@yahoo.com      66\n",
      "third    Ming      Ming@gmail.com      90\n",
      "fourth  Terry      Terry@kimo.com      99\n"
     ]
    }
   ],
   "source": [
    "import pandas as pd\n",
    "# 建立資料集\n",
    "data_frame_1 = {\n",
    "    'name': ['Wiwi','Josh','Ming','Terry'],\n",
    "    'email': ['w22151500@kimo.com','j22@yahoo.com','Ming@gmail.com','Terry@kimo.com'],\n",
    "    'gardes' : [80,66,90,99]\n",
    "}\n",
    "# 建立DataFrame 物件\n",
    "student1 = pd.DataFrame(data_frame_1)\n",
    "print(student1)\n",
    "print('---------------------------------我是分隔線-----------------------------------------')\n",
    "# 自定義index\n",
    "student2 = pd.DataFrame(data_frame_1,index = ['one','second','third','fourth'])\n",
    "print(student2)"
   ]
  },
  {
   "cell_type": "markdown",
   "metadata": {},
   "source": [
    "查看目前資訊的函數\n",
    "describe(),info(),head(),tail(),columns(),shape,index,info"
   ]
  },
  {
   "cell_type": "code",
   "execution_count": 35,
   "metadata": {},
   "outputs": [
    {
     "name": "stdout",
     "output_type": "stream",
     "text": [
      "將資料印出來\n",
      "          gardes\n",
      "count   4.000000\n",
      "mean   83.750000\n",
      "std    14.150972\n",
      "min    66.000000\n",
      "25%    76.500000\n",
      "50%    85.000000\n",
      "75%    92.250000\n",
      "max    99.000000\n",
      "回傳前3筆觀測值\n",
      "   name               email  gardes\n",
      "0  Wiwi  w22151500@kimo.com      80\n",
      "1  Josh       j22@yahoo.com      66\n",
      "2  Ming      Ming@gmail.com      90\n",
      "回傳後3筆觀測值\n",
      "    name           email  gardes\n",
      "1   Josh   j22@yahoo.com      66\n",
      "2   Ming  Ming@gmail.com      90\n",
      "3  Terry  Terry@kimo.com      99\n",
      "回傳欄位\n",
      "Index(['name', 'email', 'gardes'], dtype='object')\n",
      "回傳列數與欄數\n",
      "(4, 3)\n",
      "回傳索引\n",
      "RangeIndex(start=0, stop=4, step=1)\n",
      "列出欄位型別等資訊\n",
      "<bound method DataFrame.info of     name               email  gardes\n",
      "0   Wiwi  w22151500@kimo.com      80\n",
      "1   Josh       j22@yahoo.com      66\n",
      "2   Ming      Ming@gmail.com      90\n",
      "3  Terry      Terry@kimo.com      99>\n"
     ]
    }
   ],
   "source": [
    "import pandas as pd\n",
    "# 建立資料集\n",
    "data_frame_1 = {\n",
    "    'name': ['Wiwi','Josh','Ming','Terry'],\n",
    "    'email': ['w22151500@kimo.com','j22@yahoo.com','Ming@gmail.com','Terry@kimo.com'],\n",
    "    'gardes' : [80,66,90,99]\n",
    "}\n",
    "# 建立DataFrame 物件\n",
    "student1 = pd.DataFrame(data_frame_1)\n",
    "# 列出欄位資料型別等資訊\n",
    "print('將資料印出來')\n",
    "print(student1.describe())\n",
    "print('回傳前3筆觀測值')\n",
    "print(student1.head(3))\n",
    "print('回傳後3筆觀測值')\n",
    "print(student1.tail(3))\n",
    "print('回傳欄位')\n",
    "print(student1.columns)\n",
    "print('回傳列數與欄數')\n",
    "print(student1.shape)\n",
    "print('回傳索引')\n",
    "print(student1.index)\n",
    "print('列出欄位型別等資訊')\n",
    "print(student1.info)\n",
    "# 列出統計資訊\n"
   ]
  },
  {
   "cell_type": "markdown",
   "metadata": {},
   "source": [
    "資料選擇與篩選:\n",
    "iloc[] , loc[]"
   ]
  },
  {
   "cell_type": "code",
   "execution_count": 47,
   "metadata": {},
   "outputs": [
    {
     "name": "stdout",
     "output_type": "stream",
     "text": [
      "0     99\n",
      "1     80\n",
      "2     60\n",
      "3    100\n",
      "Name: grades, dtype: int64\n",
      "---------------------------------我是分隔線-----------------------------------------\n",
      "99\n",
      "---------------------------------我是分隔線-----------------------------------------\n",
      "  groups  grades\n",
      "0   Wiwi      99\n",
      "---------------------------------我是分隔線-----------------------------------------\n",
      "0     99\n",
      "1     80\n",
      "2     60\n",
      "3    100\n",
      "Name: grades, dtype: int64\n",
      "  groups  grades\n",
      "0   Wiwi      99\n",
      "3  Terry     100\n"
     ]
    }
   ],
   "source": [
    "import pandas as pd\n",
    "# 建立資料集\n",
    "group = [\"Wiwi\",\"Josh\",\"Ming\",\"Terry\"]\n",
    "grades = [99,80,60,100]\n",
    "dict = {\"groups\":group,\"grades\":grades}\n",
    "data = pd.DataFrame(dict)\n",
    "print(data[\"grades\"])\n",
    "print('---------------------------------我是分隔線-----------------------------------------')\n",
    "print(data.iloc[0,1]) # 第一筆資料的成績\n",
    "print('---------------------------------我是分隔線-----------------------------------------')\n",
    "print(data.iloc[0:1,:]) # 第一筆資料的成績及對象\n",
    "print('---------------------------------我是分隔線-----------------------------------------')\n",
    "print(data.iloc[:,1]) # 各欄的成績\n",
    "print(data[data.loc[:,\"grades\"]> 80]) #選出分數超過80"
   ]
  },
  {
   "cell_type": "markdown",
   "metadata": {},
   "source": [
    "資料排序:\n",
    "sort_index(),sort_values()"
   ]
  },
  {
   "cell_type": "code",
   "execution_count": 49,
   "metadata": {},
   "outputs": [
    {
     "name": "stdout",
     "output_type": "stream",
     "text": [
      "  groups  grades\n",
      "0   Wiwi      99\n",
      "1   Josh      80\n",
      "2   Ming      60\n",
      "3  Terry     100\n",
      "---------------------------------我是分隔線-----------------------------------------\n",
      "  groups  grades\n",
      "2   Ming      60\n",
      "1   Josh      80\n",
      "0   Wiwi      99\n",
      "3  Terry     100\n"
     ]
    }
   ],
   "source": [
    "import pandas as pd\n",
    "# 建立資料集\n",
    "data_frame_1 = {\n",
    "    'name': ['Wiwi','Josh','Ming','Terry'],\n",
    "    'email': ['w22151500@kimo.com','j22@yahoo.com','Ming@gmail.com','Terry@kimo.com'],\n",
    "    'gardes' : [80,66,90,99]\n",
    "}\n",
    "# 建立DataFrame 物件\n",
    "student1 = pd.DataFrame(data_frame_1)\n",
    "#透過索引值做排序，axis可以指定第幾欄，ascending用於設定升冪或降密  \n",
    "print(data.sort_index(axis = 0 , ascending = True))\n",
    "print('---------------------------------我是分隔線-----------------------------------------')\n",
    "print(data.sort_values(by = 'grades')) #透過指定欄位的數值排序  \n",
    "\n"
   ]
  },
  {
   "cell_type": "markdown",
   "metadata": {},
   "source": []
  }
 ],
 "metadata": {
  "interpreter": {
   "hash": "23300995598eec4bcf6bd89cf02d1c3675e8b2616661418dbbf5580aa901878d"
  },
  "kernelspec": {
   "display_name": "Python 3.9.11 64-bit",
   "language": "python",
   "name": "python3"
  },
  "language_info": {
   "codemirror_mode": {
    "name": "ipython",
    "version": 3
   },
   "file_extension": ".py",
   "mimetype": "text/x-python",
   "name": "python",
   "nbconvert_exporter": "python",
   "pygments_lexer": "ipython3",
   "version": "3.9.11"
  },
  "orig_nbformat": 4
 },
 "nbformat": 4,
 "nbformat_minor": 2
}
