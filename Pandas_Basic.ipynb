{
 "cells": [
  {
   "cell_type": "markdown",
   "metadata": {},
   "source": [
    "# 建立Series物件"
   ]
  },
  {
   "cell_type": "code",
   "execution_count": 42,
   "metadata": {},
   "outputs": [
    {
     "name": "stdout",
     "output_type": "stream",
     "text": [
      "0    1\n",
      "1    3\n",
      "2    5\n",
      "3    9\n",
      "dtype: int64\n"
     ]
    }
   ],
   "source": [
    "# 引入pandas套件可以使用別名\n",
    "import pandas as pd\n",
    "series_1 = pd.Series([1,3,5,9])\n",
    "print(series_1)"
   ]
  },
  {
   "cell_type": "markdown",
   "metadata": {},
   "source": [
    "建立Series索引值(預設皆為0,1,2,3，但可以透過index修改屬性)"
   ]
  },
  {
   "cell_type": "code",
   "execution_count": 43,
   "metadata": {},
   "outputs": [
    {
     "name": "stdout",
     "output_type": "stream",
     "text": [
      "Wiwi     60\n",
      "Josh     88\n",
      "Ming     90\n",
      "Terry    50\n",
      "dtype: int64\n"
     ]
    }
   ],
   "source": [
    "import pandas as pd\n",
    "grades  = pd.Series([60,88,90,50],index=['Wiwi','Josh','Ming','Terry'])\n",
    "print(grades)"
   ]
  },
  {
   "cell_type": "markdown",
   "metadata": {},
   "source": [
    "取得特定值(類似於條件)\n",
    "Case1:透過索引(index)"
   ]
  },
  {
   "cell_type": "code",
   "execution_count": 44,
   "metadata": {},
   "outputs": [
    {
     "name": "stdout",
     "output_type": "stream",
     "text": [
      "A  跳行\n",
      "1    22C\n",
      "2     33\n",
      "dtype: object\n"
     ]
    }
   ],
   "source": [
    "import pandas as pd\n",
    "Series_1 = pd.Series(['A','22C','33'])\n",
    "print(Series_1[0] +'  跳行' )\n",
    "\n",
    "print(Series_1[1:3])"
   ]
  },
  {
   "cell_type": "markdown",
   "metadata": {},
   "source": [
    "Case2:透過自訂義取得值"
   ]
  },
  {
   "cell_type": "code",
   "execution_count": 45,
   "metadata": {},
   "outputs": [
    {
     "name": "stdout",
     "output_type": "stream",
     "text": [
      "60\n"
     ]
    }
   ],
   "source": [
    "import pandas as pd\n",
    "grades  = pd.Series([60,88,90,50],index=['Wiwi','Josh','Ming','Terry'])\n",
    "print(grades['Wiwi'])"
   ]
  },
  {
   "cell_type": "markdown",
   "metadata": {},
   "source": [
    "字串操作相關函數\n",
    "lower(),upper(),len(),cat(),contains(),replace()"
   ]
  },
  {
   "cell_type": "code",
   "execution_count": 46,
   "metadata": {},
   "outputs": [
    {
     "name": "stdout",
     "output_type": "stream",
     "text": [
      "全部小寫: 0    wiwi\n",
      "1       郭\n",
      "2      陳宇\n",
      "dtype: object\n",
      "全部大寫: 0    WIWI\n",
      "1       郭\n",
      "2      陳宇\n",
      "dtype: object\n",
      "字串長度: 0    4\n",
      "1    1\n",
      "2    2\n",
      "dtype: int64\n",
      "合併字串並定義中間符號: wiwi-郭-陳宇\n",
      "判斷字串是否包含特定字: 0    False\n",
      "1    False\n",
      "2    False\n",
      "dtype: bool\n",
      "取代字串: 0    Jackson\n",
      "1          郭\n",
      "2         陳宇\n",
      "dtype: object\n"
     ]
    }
   ],
   "source": [
    "import pandas as pd\n",
    "ex_data = pd.Series(['wiwi','郭','陳宇'])\n",
    "print('全部小寫:',ex_data.str.lower())\n",
    "print('全部大寫:',ex_data.str.upper())\n",
    "print('字串長度:',ex_data.str.len())\n",
    "print('合併字串並定義中間符號:',ex_data.str.cat(sep ='-'))\n",
    "print('判斷字串是否包含特定字:',ex_data.str.contains(\"p\"))\n",
    "print('取代字串:',ex_data.str.replace('wiwi','Jackson'))"
   ]
  },
  {
   "cell_type": "markdown",
   "metadata": {},
   "source": [
    "相關統計函數的運用:\n",
    "sum(),max(),prod(),mean(),median(),std(),nlargest(),nsmallest()"
   ]
  },
  {
   "cell_type": "code",
   "execution_count": 47,
   "metadata": {},
   "outputs": [
    {
     "name": "stdout",
     "output_type": "stream",
     "text": [
      "總和: 288\n",
      "最大值: 90\n",
      "算術平均數: 72.0\n",
      "標準差: 20.06655592438988\n",
      "最大的一個數: Ming    90\n",
      "dtype: int64\n",
      "最小的一個數: Terry    50\n",
      "dtype: int64\n",
      "乘法總和: 23760000\n"
     ]
    }
   ],
   "source": [
    "import pandas as pd\n",
    "grades  = pd.Series([60,88,90,50],index=['Wiwi','Josh','Ming','Terry'])\n",
    "print('總和:' , grades.sum())\n",
    "print('最大值:' , grades.max())\n",
    "print('算術平均數:' , grades.mean())\n",
    "print('標準差:' , grades.std())\n",
    "print('最大的一個數:' , grades.nlargest(1)) # 函數中填入幾個數字?\n",
    "print('最小的一個數:' , grades.nsmallest(1))\n",
    "print('乘法總和:' , grades.prod())"
   ]
  },
  {
   "cell_type": "markdown",
   "metadata": {},
   "source": [
    "# DataFrame:Pandas最重要的結構\n",
    "Pandas幾乎皆用此作資料分級處理，類似於關聯式資料庫中的table(由欄位column和索引index組成)"
   ]
  },
  {
   "cell_type": "code",
   "execution_count": 48,
   "metadata": {},
   "outputs": [
    {
     "name": "stdout",
     "output_type": "stream",
     "text": [
      "    name               email  gardes\n",
      "0   Wiwi  w22151500@kimo.com      80\n",
      "1   Josh       j22@yahoo.com      66\n",
      "2   Ming      Ming@gmail.com      90\n",
      "3  Terry      Terry@kimo.com      99\n",
      "---------------------------------我是分隔線-----------------------------------------\n",
      "         name               email  gardes\n",
      "one      Wiwi  w22151500@kimo.com      80\n",
      "second   Josh       j22@yahoo.com      66\n",
      "third    Ming      Ming@gmail.com      90\n",
      "fourth  Terry      Terry@kimo.com      99\n"
     ]
    }
   ],
   "source": [
    "import pandas as pd\n",
    "# 建立資料集\n",
    "data_frame_1 = {\n",
    "    'name': ['Wiwi','Josh','Ming','Terry'],\n",
    "    'email': ['w22151500@kimo.com','j22@yahoo.com','Ming@gmail.com','Terry@kimo.com'],\n",
    "    'gardes' : [80,66,90,99]\n",
    "}\n",
    "# 建立DataFrame 物件\n",
    "student1 = pd.DataFrame(data_frame_1)\n",
    "print(student1)\n",
    "print('---------------------------------我是分隔線-----------------------------------------')\n",
    "# 自定義index\n",
    "student2 = pd.DataFrame(data_frame_1,index = ['one','second','third','fourth'])\n",
    "print(student2)"
   ]
  },
  {
   "cell_type": "markdown",
   "metadata": {},
   "source": [
    "查看目前資訊的函數\n",
    "describe(),info(),head(),tail(),columns(),shape,index,info"
   ]
  },
  {
   "cell_type": "code",
   "execution_count": 49,
   "metadata": {},
   "outputs": [
    {
     "name": "stdout",
     "output_type": "stream",
     "text": [
      "將資料印出來\n",
      "          gardes\n",
      "count   4.000000\n",
      "mean   83.750000\n",
      "std    14.150972\n",
      "min    66.000000\n",
      "25%    76.500000\n",
      "50%    85.000000\n",
      "75%    92.250000\n",
      "max    99.000000\n",
      "回傳前3筆觀測值\n",
      "   name               email  gardes\n",
      "0  Wiwi  w22151500@kimo.com      80\n",
      "1  Josh       j22@yahoo.com      66\n",
      "2  Ming      Ming@gmail.com      90\n",
      "回傳後3筆觀測值\n",
      "    name           email  gardes\n",
      "1   Josh   j22@yahoo.com      66\n",
      "2   Ming  Ming@gmail.com      90\n",
      "3  Terry  Terry@kimo.com      99\n",
      "回傳欄位\n",
      "Index(['name', 'email', 'gardes'], dtype='object')\n",
      "回傳列數與欄數\n",
      "(4, 3)\n",
      "回傳索引\n",
      "RangeIndex(start=0, stop=4, step=1)\n",
      "列出欄位型別等資訊\n",
      "<bound method DataFrame.info of     name               email  gardes\n",
      "0   Wiwi  w22151500@kimo.com      80\n",
      "1   Josh       j22@yahoo.com      66\n",
      "2   Ming      Ming@gmail.com      90\n",
      "3  Terry      Terry@kimo.com      99>\n"
     ]
    }
   ],
   "source": [
    "import pandas as pd\n",
    "# 建立資料集\n",
    "data_frame_1 = {\n",
    "    'name': ['Wiwi','Josh','Ming','Terry'],\n",
    "    'email': ['w22151500@kimo.com','j22@yahoo.com','Ming@gmail.com','Terry@kimo.com'],\n",
    "    'gardes' : [80,66,90,99]\n",
    "}\n",
    "# 建立DataFrame 物件\n",
    "student1 = pd.DataFrame(data_frame_1)\n",
    "# 列出欄位資料型別等資訊\n",
    "print('將資料印出來')\n",
    "print(student1.describe())\n",
    "print('回傳前3筆觀測值')\n",
    "print(student1.head(3))\n",
    "print('回傳後3筆觀測值')\n",
    "print(student1.tail(3))\n",
    "print('回傳欄位')\n",
    "print(student1.columns)\n",
    "print('回傳列數與欄數')\n",
    "print(student1.shape)\n",
    "print('回傳索引')\n",
    "print(student1.index)\n",
    "print('列出欄位型別等資訊')\n",
    "print(student1.info)\n",
    "# 列出統計資訊\n"
   ]
  },
  {
   "cell_type": "markdown",
   "metadata": {},
   "source": [
    "中括號[]:在中括號指定「欄位名稱」,「資料索引值」取得所需的資料集"
   ]
  },
  {
   "cell_type": "code",
   "execution_count": 2,
   "metadata": {},
   "outputs": [
    {
     "name": "stdout",
     "output_type": "stream",
     "text": [
      "取得單一欄位資料(型別為Series)\n",
      "0     Wiwi\n",
      "1    Terry\n",
      "2     Ming\n",
      "3     John\n",
      "Name: name, dtype: object\n",
      "=================================\n",
      "取得單一欄位資料(型別為DataFrame)\n",
      "    name\n",
      "0   Wiwi\n",
      "1  Terry\n",
      "2   Ming\n",
      "3   John\n",
      "=================================\n",
      "取得多欄位資料(型別為DataFrame)\n",
      "    name  chinese\n",
      "0   Wiwi       63\n",
      "1  Terry       90\n",
      "2   Ming       85\n",
      "3   John       70\n",
      "=================================\n",
      "取得索引值0~2的資料\n",
      "    name  math  chinese\n",
      "0   Wiwi    80       63\n",
      "1  Terry    75       90\n",
      "2   Ming    93       85\n"
     ]
    }
   ],
   "source": [
    "import pandas as pd\n",
    "grades = {\n",
    "    \"name\": [\"Wiwi\", \"Terry\", \"Ming\", \"John\"],\n",
    "    \"math\": [80, 75, 93, 86],\n",
    "    \"chinese\": [63, 90, 85, 70]\n",
    "}\n",
    " \n",
    "df = pd.DataFrame(grades)\n",
    "print(\"取得單一欄位資料(型別為Series)\")\n",
    "print(df[\"name\"]) \n",
    "print(\"=================================\")\n",
    "print(\"取得單一欄位資料(型別為DataFrame)\")\n",
    "print(df[[\"name\"]])\n",
    "print(\"=================================\")\n",
    "print(\"取得多欄位資料(型別為DataFrame)\")\n",
    "print(df[[\"name\", \"chinese\"]]) \n",
    "print(\"=================================\") \n",
    "print(\"取得索引值0~2的資料\")\n",
    "print(df[0:3])"
   ]
  },
  {
   "cell_type": "markdown",
   "metadata": {},
   "source": [
    "at[資料索引值,欄位名稱]：利用資料索引值及欄位名稱來取得「單一值」"
   ]
  },
  {
   "cell_type": "code",
   "execution_count": 3,
   "metadata": {},
   "outputs": [
    {
     "name": "stdout",
     "output_type": "stream",
     "text": [
      "原來的df\n",
      "    name  math  chinese\n",
      "0   Wiwi    80       63\n",
      "1  Terry    75       90\n",
      "2   Ming    93       85\n",
      "3   John    86       70\n",
      "--------------------------------------------------\n",
      "取得索引值為1的math欄位資料\n",
      "75\n"
     ]
    }
   ],
   "source": [
    "import pandas as pd\n",
    "grades = {\n",
    "    \"name\": [\"Wiwi\", \"Terry\", \"Ming\", \"John\"],\n",
    "    \"math\": [80, 75, 93, 86],\n",
    "    \"chinese\": [63, 90, 85, 70]\n",
    "}\n",
    "df = pd.DataFrame(grades)\n",
    "print(\"原來的df\")\n",
    "print(df)\n",
    "print(\"--------------------------------------------------\")\n",
    "print(\"取得索引值為1的math欄位資料\")\n",
    "print(df.at[1,\"math\"])"
   ]
  },
  {
   "cell_type": "markdown",
   "metadata": {},
   "source": [
    "iat[資料索引值,欄位順序]：利用資料索引值及欄位順序來取得「單一值」"
   ]
  },
  {
   "cell_type": "code",
   "execution_count": 4,
   "metadata": {},
   "outputs": [
    {
     "name": "stdout",
     "output_type": "stream",
     "text": [
      "原來的df\n",
      "    name  math  chinese\n",
      "0   Wiwi    80       63\n",
      "1  Terry    75       90\n",
      "2   Ming    93       85\n",
      "3   John    86       70\n",
      "--------------------------------------------------\n",
      "利用iat()方法取得索引值為1的第一個欄位資料\n",
      "Terry\n"
     ]
    }
   ],
   "source": [
    "import pandas as pd\n",
    "grades = {\n",
    "    \"name\": [\"Wiwi\", \"Terry\", \"Ming\", \"John\"],\n",
    "    \"math\": [80, 75, 93, 86],\n",
    "    \"chinese\": [63, 90, 85, 70]\n",
    "}\n",
    "df = pd.DataFrame(grades)\n",
    "print(\"原來的df\")\n",
    "print(df) \n",
    "print(\"--------------------------------------------------\")\n",
    "print(\"利用iat()方法取得索引值為1的第一個欄位資料\")\n",
    "print(df.iat[1,0])"
   ]
  },
  {
   "cell_type": "markdown",
   "metadata": {},
   "source": [
    "loc[資料索引值,欄位名稱]：利用資料索引值及欄位名稱來取得「資料集」，如下範例："
   ]
  },
  {
   "cell_type": "code",
   "execution_count": 7,
   "metadata": {},
   "outputs": [
    {
     "name": "stdout",
     "output_type": "stream",
     "text": [
      "原來的df\n",
      "    name  math  chinese\n",
      "0   Wiwi    80       63\n",
      "1  Terry    75       90\n",
      "2   Ming    93       85\n",
      "3   John    86       70\n",
      "--------------------------------------------------\n",
      "取得資料索引值為1和3的name及chinese欄位資料集\n",
      "    name  chinese\n",
      "1  Terry       90\n",
      "3   John       70\n"
     ]
    }
   ],
   "source": [
    "import pandas as pd\n",
    "grades = {\n",
    "    \"name\": [\"Wiwi\", \"Terry\", \"Ming\", \"John\"],\n",
    "    \"math\": [80, 75, 93, 86],\n",
    "    \"chinese\": [63, 90, 85, 70]\n",
    "}\n",
    "df = pd.DataFrame(grades)\n",
    "print(\"原來的df\")\n",
    "print(df) \n",
    "print(\"--------------------------------------------------\")\n",
    "print(\"取得資料索引值為1和3的name及chinese欄位資料集\")\n",
    "print(df.loc[[1,3],[\"name\",\"chinese\"]])"
   ]
  },
  {
   "cell_type": "markdown",
   "metadata": {},
   "source": [
    "iloc[資料索引值,欄位順序]：利用資料索引值及欄位順序來取得「資料集」"
   ]
  },
  {
   "cell_type": "code",
   "execution_count": 8,
   "metadata": {},
   "outputs": [
    {
     "name": "stdout",
     "output_type": "stream",
     "text": [
      "原來的df\n",
      "    name  math  chinese\n",
      "0   Wiwi    80       63\n",
      "1  Terry    75       90\n",
      "2   Ming    93       85\n",
      "3   John    86       70\n",
      "--------------------------------------------------\n",
      "取得資料索引值為1和3的第一個及第三個欄位資料集\n",
      "    name  chinese\n",
      "1  Terry       90\n",
      "3   John       70\n"
     ]
    }
   ],
   "source": [
    "import pandas as pd\n",
    "grades = {\n",
    "    \"name\": [\"Wiwi\", \"Terry\", \"Ming\", \"John\"],\n",
    "    \"math\": [80, 75, 93, 86],\n",
    "    \"chinese\": [63, 90, 85, 70]\n",
    "}\n",
    "df = pd.DataFrame(grades)\n",
    "print(\"原來的df\")\n",
    "print(df) \n",
    "print(\"--------------------------------------------------\")\n",
    "print(\"取得資料索引值為1和3的第一個及第三個欄位資料集\")\n",
    "print(df.iloc[[1,3],[0,2]])"
   ]
  },
  {
   "cell_type": "markdown",
   "metadata": {},
   "source": [
    "## 新增Pandas DataFrame 資料\n",
    "insert()：在指定的欄位位置新增欄位資料"
   ]
  },
  {
   "cell_type": "code",
   "execution_count": 13,
   "metadata": {},
   "outputs": [
    {
     "name": "stdout",
     "output_type": "stream",
     "text": [
      "原來的df\n",
      "    name  math  chinese\n",
      "0   Wiwi    80       63\n",
      "1  Terry    75       90\n",
      "2   Ming    93       85\n",
      "3   John    86       70\n",
      "--------------------------------------------------\n",
      "新增第三欄日文的成績\n",
      "    name  math  japanese  chinese\n",
      "0   Wiwi    80        90       63\n",
      "1  Terry    75        50       90\n",
      "2   Ming    93        60       85\n",
      "3   John    86        70       70\n"
     ]
    }
   ],
   "source": [
    "import pandas as pd\n",
    "grades = {\n",
    "    \"name\": [\"Wiwi\", \"Terry\", \"Ming\", \"John\"],\n",
    "    \"math\": [80, 75, 93, 86],\n",
    "    \"chinese\": [63, 90, 85, 70]\n",
    "}\n",
    "df = pd.DataFrame(grades)\n",
    "print(\"原來的df\")\n",
    "print(df) \n",
    "print(\"--------------------------------------------------\")\n",
    "df.insert(2,column = 'japanese',value = [90,50,60,70])\n",
    "print(\"新增第三欄日文的成績\")\n",
    "print(df)"
   ]
  },
  {
   "cell_type": "markdown",
   "metadata": {},
   "source": [
    "append()：新增一筆或一列的資料，透過傳入字典(Dictionary)來指定各欄位的值，並且會回傳一個新的Pandas DataFrame資料集。"
   ]
  },
  {
   "cell_type": "code",
   "execution_count": 15,
   "metadata": {},
   "outputs": [
    {
     "name": "stdout",
     "output_type": "stream",
     "text": [
      "原來的df\n",
      "    name  math  chinese\n",
      "0   Wiwi    80       63\n",
      "1  Terry    75       90\n",
      "2   Ming    93       85\n",
      "3   John    86       70\n",
      "--------------------------------------------------\n",
      "    name  math  chinese\n",
      "0   Wiwi    80       63\n",
      "1  Terry    75       90\n",
      "2   Ming    93       85\n",
      "3   John    86       70\n",
      "4  Kelly    60       90\n"
     ]
    },
    {
     "name": "stderr",
     "output_type": "stream",
     "text": [
      "C:\\Users\\USER\\AppData\\Local\\Temp\\ipykernel_1572\\1644738358.py:11: FutureWarning: The frame.append method is deprecated and will be removed from pandas in a future version. Use pandas.concat instead.\n",
      "  new_df = df.append({\n"
     ]
    }
   ],
   "source": [
    "import pandas as pd\n",
    "grades = {\n",
    "    \"name\": [\"Wiwi\", \"Terry\", \"Ming\", \"John\"],\n",
    "    \"math\": [80, 75, 93, 86],\n",
    "    \"chinese\": [63, 90, 85, 70]\n",
    "}\n",
    "df = pd.DataFrame(grades)\n",
    "print(\"原來的df\")\n",
    "print(df) \n",
    "print(\"--------------------------------------------------\")\n",
    "new_df = df.append({\n",
    "    \"name\":\"Kelly\",\n",
    "    \"math\":60,\n",
    "    \"chinese\":90\n",
    "}, ignore_index = True)\n",
    "print(new_df)"
   ]
  },
  {
   "cell_type": "markdown",
   "metadata": {},
   "source": [
    "concat()：利用合併多個Pandas DataFrame的方式來新增資料，並且會回傳一個新的Pandas DataFrame資料集。"
   ]
  },
  {
   "cell_type": "code",
   "execution_count": 19,
   "metadata": {},
   "outputs": [
    {
     "name": "stdout",
     "output_type": "stream",
     "text": [
      "原來的df\n",
      "    name  math  chinese\n",
      "0   Wiwi    80       63\n",
      "1  Terry    75       90\n",
      "2   Ming    93       85\n",
      "3   John    86       70\n",
      "--------------------------------------------------\n",
      "    name  math  chinese\n",
      "0   Wiwi    80       63\n",
      "1  Terry    75       90\n",
      "2   Ming    93       85\n",
      "3   John    86       70\n",
      "4  Kelly    60       90\n"
     ]
    }
   ],
   "source": [
    "import pandas as pd\n",
    "grades = {\n",
    "    \"name\": [\"Wiwi\", \"Terry\", \"Ming\", \"John\"],\n",
    "    \"math\": [80, 75, 93, 86],\n",
    "    \"chinese\": [63, 90, 85, 70]\n",
    "}\n",
    "df = pd.DataFrame(grades)\n",
    "print(\"原來的df\")\n",
    "print(df) \n",
    "print(\"--------------------------------------------------\")\n",
    "new_df = pd.DataFrame({\n",
    "    \"name\":[\"Kelly\"],\n",
    "    \"math\":[60],\n",
    "    \"chinese\":[90]\n",
    "})\n",
    "final_df = pd.concat([df,new_df],ignore_index = True)\n",
    "print(final_df)"
   ]
  },
  {
   "cell_type": "markdown",
   "metadata": {},
   "source": [
    "## 修改DataFrame資料\n",
    "利用Pandas DataFrame的at及iat取得所要修改的單一值後，來進行資料內容的修改"
   ]
  },
  {
   "cell_type": "code",
   "execution_count": 20,
   "metadata": {},
   "outputs": [
    {
     "name": "stdout",
     "output_type": "stream",
     "text": [
      "原來的df\n",
      "    name  math  chinese\n",
      "0   Wiwi    80       63\n",
      "1  Terry    75       90\n",
      "2   Ming    93       85\n",
      "3   John    86       70\n",
      "--------------------------------------------------\n",
      "df修改後\n",
      "    name  math  chinese\n",
      "0   Wiwi    80       63\n",
      "1  Frank   100       90\n",
      "2   Ming    93       85\n",
      "3   John    86       70\n"
     ]
    }
   ],
   "source": [
    "import pandas as pd\n",
    "grades = {\n",
    "    \"name\": [\"Wiwi\", \"Terry\", \"Ming\", \"John\"],\n",
    "    \"math\": [80, 75, 93, 86],\n",
    "    \"chinese\": [63, 90, 85, 70]\n",
    "}\n",
    "df = pd.DataFrame(grades)\n",
    "print(\"原來的df\")\n",
    "print(df) \n",
    "print(\"--------------------------------------------------\")\n",
    "df.at[1,\"math\"] = 100 \n",
    "df.iat[1,0] = \"Frank\"\n",
    "print(\"df修改後\")\n",
    "print(df)"
   ]
  },
  {
   "cell_type": "markdown",
   "metadata": {},
   "source": [
    "## 刪除DataFrame 資料:\n",
    "drop(欄位名稱串列,axis=1)：刪除指定欄位名稱的欄位，並且會回傳一個新的Pandas DataFrame資料集。"
   ]
  },
  {
   "cell_type": "code",
   "execution_count": 21,
   "metadata": {},
   "outputs": [
    {
     "name": "stdout",
     "output_type": "stream",
     "text": [
      "原來的df\n",
      "    name  math  chinese\n",
      "0   Wiwi    80       63\n",
      "1  Terry    75       90\n",
      "2   Ming    93       85\n",
      "3   John    86       70\n",
      "--------------------------------------------------\n",
      "刪除chinese欄位\n",
      "    name  math\n",
      "0   Wiwi    80\n",
      "1  Terry    75\n",
      "2   Ming    93\n",
      "3   John    86\n"
     ]
    }
   ],
   "source": [
    "import pandas as pd\n",
    "grades = {\n",
    "    \"name\": [\"Wiwi\", \"Terry\", \"Ming\", \"John\"],\n",
    "    \"math\": [80, 75, 93, 86],\n",
    "    \"chinese\": [63, 90, 85, 70]\n",
    "}\n",
    "df = pd.DataFrame(grades)\n",
    "print(\"原來的df\")\n",
    "print(df) \n",
    "print(\"--------------------------------------------------\")\n",
    "new_df = df.drop([\"chinese\"],axis = 1)\n",
    "print(\"刪除chinese欄位\")\n",
    "print(new_df)"
   ]
  },
  {
   "cell_type": "markdown",
   "metadata": {},
   "source": [
    "drop(資料索引串列,axis=0)：刪除指定資料索引的資料，並且會回傳一個新的Pandas DataFrame資料集"
   ]
  },
  {
   "cell_type": "code",
   "execution_count": 22,
   "metadata": {},
   "outputs": [
    {
     "name": "stdout",
     "output_type": "stream",
     "text": [
      "原來的df\n",
      "    name  math  chinese\n",
      "0   Wiwi    80       63\n",
      "1  Terry    75       90\n",
      "2   Ming    93       85\n",
      "3   John    86       70\n",
      "--------------------------------------------------\n",
      "刪除第二及第三列資料\n",
      "   name  math  chinese\n",
      "0  Wiwi    80       63\n",
      "3  John    86       70\n"
     ]
    }
   ],
   "source": [
    "import pandas as pd\n",
    "grades = {\n",
    "    \"name\": [\"Wiwi\", \"Terry\", \"Ming\", \"John\"],\n",
    "    \"math\": [80, 75, 93, 86],\n",
    "    \"chinese\": [63, 90, 85, 70]\n",
    "}\n",
    "df = pd.DataFrame(grades)\n",
    "print(\"原來的df\")\n",
    "print(df) \n",
    "print(\"--------------------------------------------------\")\n",
    "new_df = df.drop([1,2],axis = 0)\n",
    "print(\"刪除第二及第三列資料\")\n",
    "print(new_df)"
   ]
  },
  {
   "cell_type": "markdown",
   "metadata": {},
   "source": [
    "dropna()：刪除含有NaN或空值的資料，並且會回傳一個新的Pandas DataFrame資料集，在進行資料清理的時候非常實用。"
   ]
  },
  {
   "cell_type": "code",
   "execution_count": 27,
   "metadata": {},
   "outputs": [
    {
     "name": "stdout",
     "output_type": "stream",
     "text": [
      "原來的df\n",
      "    name starsign  math  chinese\n",
      "0   Wiwi    libra    80       63\n",
      "1  Terry     lion    75       90\n",
      "2   Ming  scropio    93       85\n",
      "3    NaN      NaN    86       70\n",
      "--------------------------------------------------\n",
      "去空值後的df\n",
      "    name starsign  math  chinese\n",
      "0   Wiwi    libra    80       63\n",
      "1  Terry     lion    75       90\n",
      "2   Ming  scropio    93       85\n"
     ]
    }
   ],
   "source": [
    "import pandas as pd\n",
    "import numpy as np\n",
    "grades = {\n",
    "    \"name\": [\"Wiwi\", \"Terry\", \"Ming\", np.NaN],\n",
    "    \"starsign\":[\"libra\",\"lion\",\"scropio\",np.NaN],\n",
    "    \"math\": [80, 75, 93, 86],\n",
    "    \"chinese\": [63, 90, 85, 70]\n",
    "}\n",
    "df = pd.DataFrame(grades)\n",
    "print(\"原來的df\")\n",
    "print(df) \n",
    "print(\"--------------------------------------------------\")\n",
    "new_df = df.dropna()\n",
    "print(\"去空值後的df\")\n",
    "print(new_df)"
   ]
  },
  {
   "cell_type": "markdown",
   "metadata": {},
   "source": [
    "drop_duplicates()：刪除重複的資料，並且會回傳一個新的Pandas DataFrame資料集，同樣最常應用在資料清理的時候。"
   ]
  },
  {
   "cell_type": "code",
   "execution_count": 31,
   "metadata": {},
   "outputs": [
    {
     "name": "stdout",
     "output_type": "stream",
     "text": [
      "原來的df\n",
      "    name starsign  math  chinese\n",
      "0   Wiwi    libra    80       63\n",
      "1  Terry     lion    75       90\n",
      "2   Ming  scropio    93       85\n",
      "3   Ming  scropio    93       85\n",
      "--------------------------------------------------\n",
      "去重複值後的df\n",
      "    name starsign  math  chinese\n",
      "0   Wiwi    libra    80       63\n",
      "1  Terry     lion    75       90\n",
      "2   Ming  scropio    93       85\n"
     ]
    }
   ],
   "source": [
    "import pandas as pd\n",
    "\n",
    "grades = {\n",
    "    \"name\": [\"Wiwi\", \"Terry\", \"Ming\", \"Ming\"],\n",
    "    \"starsign\":[\"libra\",\"lion\",\"scropio\",\"scropio\"],\n",
    "    \"math\": [80, 75, 93, 93],\n",
    "    \"chinese\": [63, 90, 85, 85]\n",
    "}\n",
    "df = pd.DataFrame(grades)\n",
    "print(\"原來的df\")\n",
    "print(df) \n",
    "print(\"--------------------------------------------------\")\n",
    "new_df = df.drop_duplicates()\n",
    "print(\"去重複值後的df\")\n",
    "print(new_df)"
   ]
  },
  {
   "cell_type": "markdown",
   "metadata": {},
   "source": [
    "## 篩選Pandas DataFrame 資料\n",
    "通常在處理大量的資料集時，有很高的機率會需要利用條件式來篩選所需的資料，這時候就可以利用中括號[]存取欄位來進行資料篩選。"
   ]
  },
  {
   "cell_type": "code",
   "execution_count": 33,
   "metadata": {},
   "outputs": [
    {
     "name": "stdout",
     "output_type": "stream",
     "text": [
      "原來的df\n",
      "    name starsign  math  chinese\n",
      "0   Wiwi    libra    80       63\n",
      "1  Terry     lion    75       90\n",
      "2   Ming  scropio    93       85\n",
      "3   John   Cancer    91       58\n",
      "--------------------------------------------------\n",
      "篩選chinese成績大於80的資料集\n",
      "    name starsign  math  chinese\n",
      "1  Terry     lion    75       90\n",
      "2   Ming  scropio    93       85\n"
     ]
    }
   ],
   "source": [
    "import pandas as pd\n",
    "\n",
    "grades = {\n",
    "    \"name\": [\"Wiwi\", \"Terry\", \"Ming\", \"John\"],\n",
    "    \"starsign\":[\"libra\",\"lion\",\"scropio\",\"Cancer\"],\n",
    "    \"math\": [80, 75, 93, 91],\n",
    "    \"chinese\": [63, 90, 85, 58]\n",
    "}\n",
    "df = pd.DataFrame(grades)\n",
    "print(\"原來的df\")\n",
    "print(df) \n",
    "print(\"--------------------------------------------------\")\n",
    "print(\"篩選chinese成績大於80的資料集\")\n",
    "print(df[df[\"chinese\"] > 80])"
   ]
  },
  {
   "cell_type": "markdown",
   "metadata": {},
   "source": [
    "Pandas DataFrame的isin()方法(Method):找出包含特定值的資料集"
   ]
  },
  {
   "cell_type": "code",
   "execution_count": 36,
   "metadata": {},
   "outputs": [
    {
     "name": "stdout",
     "output_type": "stream",
     "text": [
      "原來的df\n",
      "    name starsign  math  chinese\n",
      "0   Wiwi    libra    80       63\n",
      "1  Terry     lion    75       90\n",
      "2   Ming  scropio    93       85\n",
      "3   John   Cancer    91       58\n",
      "--------------------------------------------------\n",
      "篩選name欄位包含Wiwi的資料集\n",
      "   name starsign  math  chinese\n",
      "0  Wiwi    libra    80       63\n"
     ]
    }
   ],
   "source": [
    "import pandas as pd\n",
    "\n",
    "grades = {\n",
    "    \"name\": [\"Wiwi\", \"Terry\", \"Ming\", \"John\"],\n",
    "    \"starsign\":[\"libra\",\"lion\",\"scropio\",\"Cancer\"],\n",
    "    \"math\": [80, 75, 93, 91],\n",
    "    \"chinese\": [63, 90, 85, 58]\n",
    "}\n",
    "df = pd.DataFrame(grades)\n",
    "print(\"原來的df\")\n",
    "print(df) \n",
    "print(\"--------------------------------------------------\")\n",
    "print(\"篩選name欄位包含Wiwi的資料集\")\n",
    "print(df[df[\"name\"].isin([\"Wiwi\"])])"
   ]
  },
  {
   "cell_type": "markdown",
   "metadata": {},
   "source": [
    "## 排序Pandas DataFrame資料\n",
    "sort_index()：依照索引值來進行排序，並且會回傳一個新的Pandas DataFrame資料集"
   ]
  },
  {
   "cell_type": "code",
   "execution_count": 37,
   "metadata": {},
   "outputs": [
    {
     "name": "stdout",
     "output_type": "stream",
     "text": [
      "原來的df\n",
      "     name starsign  math  chinese\n",
      "A4   Wiwi    libra    80       63\n",
      "A2  Terry     lion    75       90\n",
      "A1   Ming  scropio    93       85\n",
      "A3   John   Cancer    91       58\n",
      "--------------------------------------------------\n",
      "遞增排序\n",
      "     name starsign  math  chinese\n",
      "A1   Ming  scropio    93       85\n",
      "A2  Terry     lion    75       90\n",
      "A3   John   Cancer    91       58\n",
      "A4   Wiwi    libra    80       63\n",
      "遞減排序\n",
      "     name starsign  math  chinese\n",
      "A4   Wiwi    libra    80       63\n",
      "A3   John   Cancer    91       58\n",
      "A2  Terry     lion    75       90\n",
      "A1   Ming  scropio    93       85\n"
     ]
    }
   ],
   "source": [
    "import pandas as pd\n",
    "\n",
    "grades = {\n",
    "    \"name\": [\"Wiwi\", \"Terry\", \"Ming\", \"John\"],\n",
    "    \"starsign\":[\"libra\",\"lion\",\"scropio\",\"Cancer\"],\n",
    "    \"math\": [80, 75, 93, 91],\n",
    "    \"chinese\": [63, 90, 85, 58]\n",
    "}\n",
    "df = pd.DataFrame(grades)\n",
    "df.index = [\"A4\",\"A2\",\"A1\",\"A3\"]\n",
    "print(\"原來的df\")\n",
    "print(df) \n",
    "print(\"--------------------------------------------------\")\n",
    "new_df = df.sort_index(ascending=True)\n",
    "print(\"遞增排序\")\n",
    "print(new_df)\n",
    "new_df = df.sort_index(ascending=False)\n",
    "print(\"遞減排序\")\n",
    "print(new_df)"
   ]
  },
  {
   "cell_type": "markdown",
   "metadata": {},
   "source": [
    "sort_values()：依照欄位內容來進行排序，並且會回傳一個新的Pandas DataFrame資料集。"
   ]
  },
  {
   "cell_type": "code",
   "execution_count": 38,
   "metadata": {},
   "outputs": [
    {
     "name": "stdout",
     "output_type": "stream",
     "text": [
      "原來的df\n",
      "     name starsign  math  chinese\n",
      "A4   Wiwi    libra    80       63\n",
      "A2  Terry     lion    75       90\n",
      "A1   Ming  scropio    93       85\n",
      "A3   John   Cancer    91       58\n",
      "--------------------------------------------------\n",
      "以數學成績高到低做排序\n",
      "     name starsign  math  chinese\n",
      "A2  Terry     lion    75       90\n",
      "A4   Wiwi    libra    80       63\n",
      "A3   John   Cancer    91       58\n",
      "A1   Ming  scropio    93       85\n",
      "以數學成績低到高做排序\n",
      "     name starsign  math  chinese\n",
      "A1   Ming  scropio    93       85\n",
      "A3   John   Cancer    91       58\n",
      "A4   Wiwi    libra    80       63\n",
      "A2  Terry     lion    75       90\n"
     ]
    }
   ],
   "source": [
    "import pandas as pd\n",
    "\n",
    "grades = {\n",
    "    \"name\": [\"Wiwi\", \"Terry\", \"Ming\", \"John\"],\n",
    "    \"starsign\":[\"libra\",\"lion\",\"scropio\",\"Cancer\"],\n",
    "    \"math\": [80, 75, 93, 91],\n",
    "    \"chinese\": [63, 90, 85, 58]\n",
    "}\n",
    "df = pd.DataFrame(grades)\n",
    "df.index = [\"A4\",\"A2\",\"A1\",\"A3\"]\n",
    "print(\"原來的df\")\n",
    "print(df) \n",
    "print(\"--------------------------------------------------\")\n",
    "new_df = df.sort_values([\"math\"],ascending=True)\n",
    "print(\"以數學成績高到低做排序\")\n",
    "print(new_df)\n",
    "new_df = df.sort_values([\"math\"],ascending=False)\n",
    "print(\"以數學成績低到高做排序\")\n",
    "print(new_df)"
   ]
  },
  {
   "cell_type": "markdown",
   "metadata": {},
   "source": [
    "查看目前資訊的函數\n",
    "describe(),info(),head(),tail(),columns(),shape,index,info"
   ]
  },
  {
   "cell_type": "code",
   "execution_count": 39,
   "metadata": {},
   "outputs": [
    {
     "name": "stdout",
     "output_type": "stream",
     "text": [
      "將資料印出來\n",
      "          gardes\n",
      "count   4.000000\n",
      "mean   83.750000\n",
      "std    14.150972\n",
      "min    66.000000\n",
      "25%    76.500000\n",
      "50%    85.000000\n",
      "75%    92.250000\n",
      "max    99.000000\n",
      "回傳前3筆觀測值\n",
      "   name               email  gardes\n",
      "0  Wiwi  w22151500@kimo.com      80\n",
      "1  Josh       j22@yahoo.com      66\n",
      "2  Ming      Ming@gmail.com      90\n",
      "回傳後3筆觀測值\n",
      "    name           email  gardes\n",
      "1   Josh   j22@yahoo.com      66\n",
      "2   Ming  Ming@gmail.com      90\n",
      "3  Terry  Terry@kimo.com      99\n",
      "回傳欄位\n",
      "Index(['name', 'email', 'gardes'], dtype='object')\n",
      "回傳列數與欄數\n",
      "(4, 3)\n",
      "回傳索引\n",
      "RangeIndex(start=0, stop=4, step=1)\n",
      "列出欄位型別等資訊\n",
      "<bound method DataFrame.info of     name               email  gardes\n",
      "0   Wiwi  w22151500@kimo.com      80\n",
      "1   Josh       j22@yahoo.com      66\n",
      "2   Ming      Ming@gmail.com      90\n",
      "3  Terry      Terry@kimo.com      99>\n"
     ]
    }
   ],
   "source": [
    "import pandas as pd\n",
    "# 建立資料集\n",
    "data_frame_1 = {\n",
    "    'name': ['Wiwi','Josh','Ming','Terry'],\n",
    "    'email': ['w22151500@kimo.com','j22@yahoo.com','Ming@gmail.com','Terry@kimo.com'],\n",
    "    'gardes' : [80,66,90,99]\n",
    "}\n",
    "# 建立DataFrame 物件\n",
    "student1 = pd.DataFrame(data_frame_1)\n",
    "# 列出欄位資料型別等資訊\n",
    "print('將資料印出來')\n",
    "print(student1.describe())\n",
    "print('回傳前3筆觀測值')\n",
    "print(student1.head(3))\n",
    "print('回傳後3筆觀測值')\n",
    "print(student1.tail(3))\n",
    "print('回傳欄位')\n",
    "print(student1.columns)\n",
    "print('回傳列數與欄數')\n",
    "print(student1.shape)\n",
    "print('回傳索引')\n",
    "print(student1.index)\n",
    "print('列出欄位型別等資訊')\n",
    "print(student1.info)\n",
    "# 列出統計資訊"
   ]
  }
 ],
 "metadata": {
  "interpreter": {
   "hash": "23300995598eec4bcf6bd89cf02d1c3675e8b2616661418dbbf5580aa901878d"
  },
  "kernelspec": {
   "display_name": "Python 3.9.11 64-bit",
   "language": "python",
   "name": "python3"
  },
  "language_info": {
   "codemirror_mode": {
    "name": "ipython",
    "version": 3
   },
   "file_extension": ".py",
   "mimetype": "text/x-python",
   "name": "python",
   "nbconvert_exporter": "python",
   "pygments_lexer": "ipython3",
   "version": "3.9.11"
  },
  "orig_nbformat": 4
 },
 "nbformat": 4,
 "nbformat_minor": 2
}
